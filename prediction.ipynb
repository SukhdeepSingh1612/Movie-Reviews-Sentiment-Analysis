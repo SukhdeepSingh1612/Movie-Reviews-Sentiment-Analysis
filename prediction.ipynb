{
 "cells": [
  {
   "cell_type": "code",
   "execution_count": 1,
   "metadata": {},
   "outputs": [],
   "source": [
    "## Step 1 : Import the required libraries and Load the model\n",
    "import numpy as np\n",
    "import tensorflow as tf\n",
    "from tensorflow.keras.datasets import imdb\n",
    "from tensorflow.keras.models import load_model\n",
    "from tensorflow.keras.preprocessing import sequence"
   ]
  },
  {
   "cell_type": "code",
   "execution_count": 2,
   "metadata": {},
   "outputs": [],
   "source": [
    "word_index = imdb.get_word_index()\n",
    "reverse_word_index = dict([(value, key) for (key, value) in word_index.items()])"
   ]
  },
  {
   "cell_type": "code",
   "execution_count": 4,
   "metadata": {},
   "outputs": [
    {
     "name": "stderr",
     "output_type": "stream",
     "text": [
      "WARNING:absl:Compiled the loaded model, but the compiled metrics have yet to be built. `model.compile_metrics` will be empty until you train or evaluate the model.\n"
     ]
    },
    {
     "data": {
      "text/html": [
       "<pre style=\"white-space:pre;overflow-x:auto;line-height:normal;font-family:Menlo,'DejaVu Sans Mono',consolas,'Courier New',monospace\"><span style=\"font-weight: bold\">Model: \"sequential_4\"</span>\n",
       "</pre>\n"
      ],
      "text/plain": [
       "\u001b[1mModel: \"sequential_4\"\u001b[0m\n"
      ]
     },
     "metadata": {},
     "output_type": "display_data"
    },
    {
     "data": {
      "text/html": [
       "<pre style=\"white-space:pre;overflow-x:auto;line-height:normal;font-family:Menlo,'DejaVu Sans Mono',consolas,'Courier New',monospace\">┏━━━━━━━━━━━━━━━━━━━━━━━━━━━━━━━━━┳━━━━━━━━━━━━━━━━━━━━━━━━┳━━━━━━━━━━━━━━━┓\n",
       "┃<span style=\"font-weight: bold\"> Layer (type)                    </span>┃<span style=\"font-weight: bold\"> Output Shape           </span>┃<span style=\"font-weight: bold\">       Param # </span>┃\n",
       "┡━━━━━━━━━━━━━━━━━━━━━━━━━━━━━━━━━╇━━━━━━━━━━━━━━━━━━━━━━━━╇━━━━━━━━━━━━━━━┩\n",
       "│ embedding_4 (<span style=\"color: #0087ff; text-decoration-color: #0087ff\">Embedding</span>)         │ (<span style=\"color: #00d7ff; text-decoration-color: #00d7ff\">None</span>, <span style=\"color: #00af00; text-decoration-color: #00af00\">500</span>, <span style=\"color: #00af00; text-decoration-color: #00af00\">128</span>)       │     <span style=\"color: #00af00; text-decoration-color: #00af00\">1,280,000</span> │\n",
       "├─────────────────────────────────┼────────────────────────┼───────────────┤\n",
       "│ simple_rnn_3 (<span style=\"color: #0087ff; text-decoration-color: #0087ff\">SimpleRNN</span>)        │ (<span style=\"color: #00d7ff; text-decoration-color: #00d7ff\">None</span>, <span style=\"color: #00af00; text-decoration-color: #00af00\">128</span>)            │        <span style=\"color: #00af00; text-decoration-color: #00af00\">32,896</span> │\n",
       "├─────────────────────────────────┼────────────────────────┼───────────────┤\n",
       "│ dense_3 (<span style=\"color: #0087ff; text-decoration-color: #0087ff\">Dense</span>)                 │ (<span style=\"color: #00d7ff; text-decoration-color: #00d7ff\">None</span>, <span style=\"color: #00af00; text-decoration-color: #00af00\">1</span>)              │           <span style=\"color: #00af00; text-decoration-color: #00af00\">129</span> │\n",
       "└─────────────────────────────────┴────────────────────────┴───────────────┘\n",
       "</pre>\n"
      ],
      "text/plain": [
       "┏━━━━━━━━━━━━━━━━━━━━━━━━━━━━━━━━━┳━━━━━━━━━━━━━━━━━━━━━━━━┳━━━━━━━━━━━━━━━┓\n",
       "┃\u001b[1m \u001b[0m\u001b[1mLayer (type)                   \u001b[0m\u001b[1m \u001b[0m┃\u001b[1m \u001b[0m\u001b[1mOutput Shape          \u001b[0m\u001b[1m \u001b[0m┃\u001b[1m \u001b[0m\u001b[1m      Param #\u001b[0m\u001b[1m \u001b[0m┃\n",
       "┡━━━━━━━━━━━━━━━━━━━━━━━━━━━━━━━━━╇━━━━━━━━━━━━━━━━━━━━━━━━╇━━━━━━━━━━━━━━━┩\n",
       "│ embedding_4 (\u001b[38;5;33mEmbedding\u001b[0m)         │ (\u001b[38;5;45mNone\u001b[0m, \u001b[38;5;34m500\u001b[0m, \u001b[38;5;34m128\u001b[0m)       │     \u001b[38;5;34m1,280,000\u001b[0m │\n",
       "├─────────────────────────────────┼────────────────────────┼───────────────┤\n",
       "│ simple_rnn_3 (\u001b[38;5;33mSimpleRNN\u001b[0m)        │ (\u001b[38;5;45mNone\u001b[0m, \u001b[38;5;34m128\u001b[0m)            │        \u001b[38;5;34m32,896\u001b[0m │\n",
       "├─────────────────────────────────┼────────────────────────┼───────────────┤\n",
       "│ dense_3 (\u001b[38;5;33mDense\u001b[0m)                 │ (\u001b[38;5;45mNone\u001b[0m, \u001b[38;5;34m1\u001b[0m)              │           \u001b[38;5;34m129\u001b[0m │\n",
       "└─────────────────────────────────┴────────────────────────┴───────────────┘\n"
      ]
     },
     "metadata": {},
     "output_type": "display_data"
    },
    {
     "data": {
      "text/html": [
       "<pre style=\"white-space:pre;overflow-x:auto;line-height:normal;font-family:Menlo,'DejaVu Sans Mono',consolas,'Courier New',monospace\"><span style=\"font-weight: bold\"> Total params: </span><span style=\"color: #00af00; text-decoration-color: #00af00\">1,313,027</span> (5.01 MB)\n",
       "</pre>\n"
      ],
      "text/plain": [
       "\u001b[1m Total params: \u001b[0m\u001b[38;5;34m1,313,027\u001b[0m (5.01 MB)\n"
      ]
     },
     "metadata": {},
     "output_type": "display_data"
    },
    {
     "data": {
      "text/html": [
       "<pre style=\"white-space:pre;overflow-x:auto;line-height:normal;font-family:Menlo,'DejaVu Sans Mono',consolas,'Courier New',monospace\"><span style=\"font-weight: bold\"> Trainable params: </span><span style=\"color: #00af00; text-decoration-color: #00af00\">1,313,025</span> (5.01 MB)\n",
       "</pre>\n"
      ],
      "text/plain": [
       "\u001b[1m Trainable params: \u001b[0m\u001b[38;5;34m1,313,025\u001b[0m (5.01 MB)\n"
      ]
     },
     "metadata": {},
     "output_type": "display_data"
    },
    {
     "data": {
      "text/html": [
       "<pre style=\"white-space:pre;overflow-x:auto;line-height:normal;font-family:Menlo,'DejaVu Sans Mono',consolas,'Courier New',monospace\"><span style=\"font-weight: bold\"> Non-trainable params: </span><span style=\"color: #00af00; text-decoration-color: #00af00\">0</span> (0.00 B)\n",
       "</pre>\n"
      ],
      "text/plain": [
       "\u001b[1m Non-trainable params: \u001b[0m\u001b[38;5;34m0\u001b[0m (0.00 B)\n"
      ]
     },
     "metadata": {},
     "output_type": "display_data"
    },
    {
     "data": {
      "text/html": [
       "<pre style=\"white-space:pre;overflow-x:auto;line-height:normal;font-family:Menlo,'DejaVu Sans Mono',consolas,'Courier New',monospace\"><span style=\"font-weight: bold\"> Optimizer params: </span><span style=\"color: #00af00; text-decoration-color: #00af00\">2</span> (12.00 B)\n",
       "</pre>\n"
      ],
      "text/plain": [
       "\u001b[1m Optimizer params: \u001b[0m\u001b[38;5;34m2\u001b[0m (12.00 B)\n"
      ]
     },
     "metadata": {},
     "output_type": "display_data"
    }
   ],
   "source": [
    "model = load_model('simplernn_model.h5')\n",
    "model.summary()"
   ]
  },
  {
   "cell_type": "code",
   "execution_count": null,
   "metadata": {},
   "outputs": [
    {
     "data": {
      "text/plain": [
       "[array([[ 0.47958788,  0.6241582 ,  1.2440208 , ..., -0.24839701,\n",
       "          0.69907117, -0.12638372],\n",
       "        [ 0.05887869,  0.04542952,  0.07576121, ...,  0.01092532,\n",
       "          0.01539761, -0.02894129],\n",
       "        [ 0.19969401,  0.0317368 ,  0.17142504, ...,  0.02745762,\n",
       "          0.21074644, -0.3047765 ],\n",
       "        ...,\n",
       "        [-0.08610233, -0.12498558,  0.08870554, ...,  0.12373352,\n",
       "         -0.08949992, -0.00267661],\n",
       "        [ 0.04355257,  0.06371064, -0.0460882 , ..., -0.06725321,\n",
       "          0.00399441,  0.03497592],\n",
       "        [-0.11751666, -0.1104944 ,  0.08133225, ...,  0.06292765,\n",
       "         -0.13459425, -0.11741027]], dtype=float32),\n",
       " array([[ 0.02741078,  0.04900582,  0.09466348, ...,  0.08241472,\n",
       "          0.1770734 ,  0.12916926],\n",
       "        [-0.16260467,  0.08507059, -0.08250186, ...,  0.09296428,\n",
       "          0.14922333,  0.00568955],\n",
       "        [-0.07287157,  0.1201423 , -0.12244868, ..., -0.13700722,\n",
       "          0.05951364, -0.02877873],\n",
       "        ...,\n",
       "        [ 0.13020857,  0.02331659, -0.07748263, ...,  0.14687262,\n",
       "         -0.10307067, -0.04436183],\n",
       "        [ 0.00141438, -0.03065622,  0.06049817, ...,  0.08400419,\n",
       "          0.06345716,  0.05768712],\n",
       "        [ 0.15693906, -0.12179311,  0.17134461, ..., -0.10380867,\n",
       "         -0.10253614, -0.15325299]], dtype=float32),\n",
       " array([[ 0.00288524, -0.09196375,  0.06292662, ..., -0.17599735,\n",
       "         -0.06221126,  0.01265782],\n",
       "        [ 0.03223745, -0.08003522,  0.05942515, ..., -0.09702054,\n",
       "         -0.01259729,  0.1790085 ],\n",
       "        [ 0.15256035,  0.13976264, -0.03177032, ..., -0.11715508,\n",
       "          0.10576042,  0.00401157],\n",
       "        ...,\n",
       "        [ 0.05779617,  0.03217878, -0.04310114, ..., -0.07898232,\n",
       "          0.17221504,  0.02696225],\n",
       "        [-0.01095607, -0.13001667, -0.10498717, ..., -0.06687598,\n",
       "         -0.01755382, -0.04743773],\n",
       "        [-0.02303102, -0.06838661, -0.04748353, ..., -0.04639621,\n",
       "         -0.01139676,  0.07444043]], dtype=float32),\n",
       " array([-0.02587603, -0.03243239, -0.03355327, -0.05395867,  0.02610824,\n",
       "         0.06012245,  0.02555797, -0.06708787, -0.04791002, -0.08762849,\n",
       "        -0.0296172 , -0.0270947 ,  0.02758947, -0.03420362,  0.05887486,\n",
       "         0.0121678 , -0.0471505 ,  0.01993859, -0.0257555 ,  0.08494421,\n",
       "         0.07640757, -0.03661478, -0.02920104, -0.03748065,  0.00584441,\n",
       "        -0.00838154, -0.03982745, -0.00579489, -0.05079061,  0.0120246 ,\n",
       "         0.00876922, -0.01884656,  0.0096067 ,  0.06926194, -0.01415647,\n",
       "        -0.00937486, -0.03482686,  0.04746142, -0.03157811,  0.03791251,\n",
       "        -0.06389233,  0.04731086, -0.00680802,  0.02024174, -0.05081693,\n",
       "        -0.03876081, -0.03382143,  0.03095604, -0.05593443,  0.00856871,\n",
       "        -0.00861506,  0.03160994, -0.05388911,  0.01509235, -0.04783512,\n",
       "        -0.04162912,  0.08158574, -0.02868477, -0.02500945,  0.03464038,\n",
       "         0.01479471,  0.01206032, -0.04182648, -0.02595114, -0.01430411,\n",
       "         0.01753395, -0.00057671, -0.00222158, -0.04920094, -0.02571484,\n",
       "         0.01502047, -0.05120445, -0.03396122, -0.02869758, -0.05102558,\n",
       "        -0.0042188 ,  0.03101002,  0.00173435, -0.05219451, -0.01608318,\n",
       "         0.01570565,  0.04498539,  0.02073879,  0.01348079, -0.09221632,\n",
       "        -0.04792272, -0.04139695, -0.06702765, -0.02979951, -0.06045399,\n",
       "        -0.0311799 , -0.06322571, -0.01313372,  0.01649377,  0.00527156,\n",
       "        -0.00901043,  0.0332286 , -0.07167643, -0.00084541, -0.03696804,\n",
       "        -0.0403774 , -0.07611196, -0.05204938, -0.03368099, -0.01579869,\n",
       "        -0.06406646,  0.07239437, -0.00550164,  0.04403985, -0.01000901,\n",
       "        -0.06122138, -0.01186968, -0.00094379, -0.04503423,  0.02199962,\n",
       "         0.00334421, -0.00977803, -0.03470272, -0.06055404, -0.00685749,\n",
       "        -0.04594579,  0.00194073, -0.03682287, -0.02704086, -0.02920402,\n",
       "        -0.05328356,  0.04348544,  0.05448714], dtype=float32),\n",
       " array([[-0.13350579],\n",
       "        [-0.1975578 ],\n",
       "        [ 0.15596597],\n",
       "        [-0.17921898],\n",
       "        [-0.03859782],\n",
       "        [ 0.15974025],\n",
       "        [ 0.04278481],\n",
       "        [ 0.13155405],\n",
       "        [-0.11529866],\n",
       "        [-0.07142331],\n",
       "        [ 0.04039747],\n",
       "        [-0.12394159],\n",
       "        [ 0.18534672],\n",
       "        [-0.08048915],\n",
       "        [ 0.22552419],\n",
       "        [-0.09255964],\n",
       "        [-0.17529133],\n",
       "        [ 0.20244205],\n",
       "        [-0.07019959],\n",
       "        [-0.17758293],\n",
       "        [ 0.00285938],\n",
       "        [-0.1398986 ],\n",
       "        [ 0.07273628],\n",
       "        [-0.03840502],\n",
       "        [ 0.19070885],\n",
       "        [-0.01999268],\n",
       "        [-0.08213563],\n",
       "        [-0.1120814 ],\n",
       "        [ 0.09846922],\n",
       "        [ 0.01154983],\n",
       "        [ 0.13279772],\n",
       "        [-1.2978376 ],\n",
       "        [-0.12228259],\n",
       "        [-0.04309346],\n",
       "        [-0.11117149],\n",
       "        [-0.07233129],\n",
       "        [ 0.09937329],\n",
       "        [-0.1298691 ],\n",
       "        [ 0.19068402],\n",
       "        [ 0.02523287],\n",
       "        [ 0.16748422],\n",
       "        [ 0.2493637 ],\n",
       "        [ 0.1727128 ],\n",
       "        [-0.11837782],\n",
       "        [-0.21456021],\n",
       "        [ 0.1447753 ],\n",
       "        [ 0.10698091],\n",
       "        [-0.05513019],\n",
       "        [ 0.14931734],\n",
       "        [-0.02211281],\n",
       "        [-0.11359093],\n",
       "        [ 0.14961079],\n",
       "        [ 0.12035481],\n",
       "        [ 0.00167076],\n",
       "        [ 0.07568716],\n",
       "        [-0.12662584],\n",
       "        [ 0.12873802],\n",
       "        [ 0.15088816],\n",
       "        [-0.37021485],\n",
       "        [ 0.01309792],\n",
       "        [-0.18473932],\n",
       "        [ 0.002634  ],\n",
       "        [ 0.44448647],\n",
       "        [ 0.18186438],\n",
       "        [ 0.12385178],\n",
       "        [-0.15545645],\n",
       "        [-0.00812045],\n",
       "        [-0.08038415],\n",
       "        [ 0.04213906],\n",
       "        [ 0.07747572],\n",
       "        [-0.00577195],\n",
       "        [-0.05667509],\n",
       "        [-0.10803749],\n",
       "        [-0.07931361],\n",
       "        [-0.16397431],\n",
       "        [ 0.13122152],\n",
       "        [-0.15404424],\n",
       "        [ 0.13526624],\n",
       "        [ 0.03132746],\n",
       "        [-0.07884006],\n",
       "        [ 0.02172821],\n",
       "        [ 0.1684701 ],\n",
       "        [ 0.11503521],\n",
       "        [ 0.02192322],\n",
       "        [ 0.0169422 ],\n",
       "        [-0.02524267],\n",
       "        [-0.02938147],\n",
       "        [-0.21135207],\n",
       "        [-0.2457372 ],\n",
       "        [-0.09049162],\n",
       "        [ 0.29756442],\n",
       "        [-0.03909116],\n",
       "        [ 0.19626929],\n",
       "        [ 0.09720692],\n",
       "        [ 0.07000753],\n",
       "        [ 0.02994979],\n",
       "        [ 0.2511982 ],\n",
       "        [ 0.09783022],\n",
       "        [-0.05380295],\n",
       "        [-0.20490745],\n",
       "        [ 0.14583777],\n",
       "        [-0.43121642],\n",
       "        [-0.00711828],\n",
       "        [-0.10583361],\n",
       "        [ 0.2700695 ],\n",
       "        [ 0.02065213],\n",
       "        [ 0.1937036 ],\n",
       "        [ 0.00865933],\n",
       "        [ 0.11953458],\n",
       "        [ 0.09059241],\n",
       "        [-0.17455667],\n",
       "        [-0.19806355],\n",
       "        [ 0.01733429],\n",
       "        [ 0.08800322],\n",
       "        [-0.17440979],\n",
       "        [ 0.17457813],\n",
       "        [ 0.15752538],\n",
       "        [-0.09035011],\n",
       "        [ 0.18459955],\n",
       "        [-0.10160799],\n",
       "        [-0.01616345],\n",
       "        [-0.01961681],\n",
       "        [ 0.16397314],\n",
       "        [ 0.17691651],\n",
       "        [ 0.07632031],\n",
       "        [-0.10550886],\n",
       "        [-0.05969959],\n",
       "        [ 0.08715285]], dtype=float32),\n",
       " array([-0.50669897], dtype=float32)]"
      ]
     },
     "execution_count": 5,
     "metadata": {},
     "output_type": "execute_result"
    }
   ],
   "source": [
    "#model.get_weights()"
   ]
  },
  {
   "cell_type": "code",
   "execution_count": 6,
   "metadata": {},
   "outputs": [],
   "source": [
    "# Step 2 : Helper functions\n",
    "# Function to decode the review\n",
    "\n",
    "def decode_review(encoded_review):\n",
    "    decoded_review = ' '.join([reverse_word_index.get(i - 3, '?') for i in encoded_review])\n",
    "    return decoded_review\n",
    "\n",
    "# Function to preprocess the user input\n",
    "\n",
    "def preprocess_input(text):\n",
    "    words = text.lower().split()\n",
    "    encoded_review = [word_index.get(word, 2) + 3 for word in words]\n",
    "    padded_review = sequence.pad_sequences([encoded_review], maxlen=500)\n",
    "    return padded_review\n"
   ]
  },
  {
   "cell_type": "code",
   "execution_count": 7,
   "metadata": {},
   "outputs": [],
   "source": [
    "## Prediction Function\n",
    "def predict_sentiment(review):\n",
    "    # Preprocess the review\n",
    "    preprocessed_review = preprocess_input(review)\n",
    "\n",
    "    # Make prediction\n",
    "    prediction = model.predict(preprocessed_review)\n",
    "    sentiment = 'positive' if prediction[0][0] > 0.5 else 'negative'\n",
    "\n",
    "    return sentiment, prediction[0][0]\n",
    "   \n"
   ]
  },
  {
   "cell_type": "code",
   "execution_count": 11,
   "metadata": {},
   "outputs": [
    {
     "name": "stdout",
     "output_type": "stream",
     "text": [
      "\u001b[1m1/1\u001b[0m \u001b[32m━━━━━━━━━━━━━━━━━━━━\u001b[0m\u001b[37m\u001b[0m \u001b[1m0s\u001b[0m 29ms/step\n",
      "Review: This is the best movie. I loved it!\n",
      "Sentiment:  positive\n",
      "Score:  0.6096022\n"
     ]
    }
   ],
   "source": [
    "# Step 4: User input and prediction\n",
    "# Example review\n",
    "\n",
    "example_review = \"This is the best movie. I loved it!\"\n",
    "\n",
    "sentiment,score = predict_sentiment(example_review)\n",
    "\n",
    "print(f\"Review: {example_review}\")\n",
    "print(\"Sentiment: \", sentiment)\n",
    "print(\"Score: \", score)"
   ]
  },
  {
   "cell_type": "code",
   "execution_count": null,
   "metadata": {},
   "outputs": [],
   "source": []
  },
  {
   "cell_type": "code",
   "execution_count": null,
   "metadata": {},
   "outputs": [],
   "source": []
  },
  {
   "cell_type": "code",
   "execution_count": null,
   "metadata": {},
   "outputs": [],
   "source": []
  },
  {
   "cell_type": "code",
   "execution_count": null,
   "metadata": {},
   "outputs": [],
   "source": []
  },
  {
   "cell_type": "code",
   "execution_count": null,
   "metadata": {},
   "outputs": [],
   "source": []
  }
 ],
 "metadata": {
  "kernelspec": {
   "display_name": "Python 3",
   "language": "python",
   "name": "python3"
  },
  "language_info": {
   "codemirror_mode": {
    "name": "ipython",
    "version": 3
   },
   "file_extension": ".py",
   "mimetype": "text/x-python",
   "name": "python",
   "nbconvert_exporter": "python",
   "pygments_lexer": "ipython3",
   "version": "3.10.17"
  }
 },
 "nbformat": 4,
 "nbformat_minor": 2
}
